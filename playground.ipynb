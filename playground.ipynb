{
 "cells": [
  {
   "cell_type": "code",
   "execution_count": 1,
   "metadata": {},
   "outputs": [],
   "source": [
    "import torch\n",
    "import numpy as np\n",
    "from utils.ply import *\n",
    "from utils.pc import *"
   ]
  },
  {
   "cell_type": "code",
   "execution_count": 2,
   "metadata": {},
   "outputs": [],
   "source": [
    "file_name = 'data/datasets/3depn/ShapeNetPointCloud/02691156/10155655850468db78d106ce0a280f87.ply'\n",
    "points, _, _  = load_ply(file_name)"
   ]
  },
  {
   "cell_type": "code",
   "execution_count": 3,
   "metadata": {},
   "outputs": [
    {
     "data": {
      "text/plain": [
       "(10000, 3)"
      ]
     },
     "execution_count": 3,
     "metadata": {},
     "output_type": "execute_result"
    }
   ],
   "source": [
    "points.shape"
   ]
  },
  {
   "cell_type": "code",
   "execution_count": 4,
   "metadata": {},
   "outputs": [
    {
     "name": "stdout",
     "output_type": "stream",
     "text": [
      "Switching backend from module://matplotlib_inline.backend_inline to qtagg...\n"
     ]
    },
    {
     "data": {
      "text/plain": [
       "<Figure size 500x500 with 1 Axes>"
      ]
     },
     "execution_count": 4,
     "metadata": {},
     "output_type": "execute_result"
    }
   ],
   "source": [
    "plot_3d_point_cloud(points, in_u_sphere=True, show=True, title=file_name, backend='qtagg')"
   ]
  },
  {
   "cell_type": "code",
   "execution_count": 4,
   "metadata": {},
   "outputs": [],
   "source": [
    "import torch\n",
    "import torch_geometric \n",
    "from torch_geometric.nn.pool import radius_graph\n",
    "import networkx as nx"
   ]
  },
  {
   "cell_type": "code",
   "execution_count": 5,
   "metadata": {},
   "outputs": [],
   "source": [
    "graph = torch.from_numpy(points)\n",
    "edges = radius_graph(graph, r=0.01)"
   ]
  },
  {
   "cell_type": "code",
   "execution_count": 6,
   "metadata": {},
   "outputs": [
    {
     "data": {
      "text/plain": [
       "tensor([[ 665, 6872, 9156,  ..., 9995, 7497, 6074],\n",
       "        [   0,    0,    0,  ..., 9999, 9999, 9999]])"
      ]
     },
     "execution_count": 6,
     "metadata": {},
     "output_type": "execute_result"
    }
   ],
   "source": [
    "edges"
   ]
  },
  {
   "cell_type": "markdown",
   "metadata": {},
   "source": [
    "# Algorithm\n",
    "\n",
    "1. Count all point in point cloud\n",
    "2. get edge indices from the point cloud radius graph\n",
    "3. for each edge (u -> v) get source point coordinates (coord of u) and destination coordinates (coord of v)\n",
    "4. for this coordinates add a segment"
   ]
  },
  {
   "cell_type": "code",
   "execution_count": 9,
   "metadata": {},
   "outputs": [
    {
     "name": "stdout",
     "output_type": "stream",
     "text": [
      "Switching backend from QtAgg to qtagg...\n"
     ]
    },
    {
     "data": {
      "text/plain": [
       "<Figure size 500x500 with 1 Axes>"
      ]
     },
     "execution_count": 9,
     "metadata": {},
     "output_type": "execute_result"
    }
   ],
   "source": [
    "plot_3d_point_cloud(graph.numpy(), edges=edges.numpy()[:, :10000], in_u_sphere=True, show=True, title=file_name, backend='qtagg')"
   ]
  },
  {
   "cell_type": "code",
   "execution_count": 20,
   "metadata": {},
   "outputs": [
    {
     "data": {
      "text/plain": [
       "tensor([[-0.0477,  0.0515,  0.2680],\n",
       "        [ 0.1966,  0.0100,  0.0117],\n",
       "        [-0.0117,  0.0940,  0.2773],\n",
       "        [ 0.0039,  0.0952,  0.2586],\n",
       "        [-0.0023,  0.0772,  0.3976]])"
      ]
     },
     "execution_count": 20,
     "metadata": {},
     "output_type": "execute_result"
    }
   ],
   "source": [
    "graph[:5]"
   ]
  },
  {
   "cell_type": "code",
   "execution_count": 7,
   "metadata": {},
   "outputs": [],
   "source": [
    "from model import *"
   ]
  },
  {
   "cell_type": "code",
   "execution_count": 8,
   "metadata": {},
   "outputs": [],
   "source": [
    "in_features = 3\n",
    "out_features = 32\n",
    "hidden_channels = 16"
   ]
  },
  {
   "cell_type": "code",
   "execution_count": 9,
   "metadata": {},
   "outputs": [],
   "source": [
    "encoder = GraphEncoder(in_channels=in_features, hidden_channels=hidden_channels, out_channels=out_features, num_layers=3)"
   ]
  },
  {
   "cell_type": "code",
   "execution_count": 10,
   "metadata": {},
   "outputs": [],
   "source": [
    "output = encoder(graph, edges)"
   ]
  },
  {
   "cell_type": "code",
   "execution_count": 11,
   "metadata": {},
   "outputs": [
    {
     "data": {
      "text/plain": [
       "torch.Size([10000, 32])"
      ]
     },
     "execution_count": 11,
     "metadata": {},
     "output_type": "execute_result"
    }
   ],
   "source": [
    "output.shape"
   ]
  },
  {
   "cell_type": "code",
   "execution_count": 19,
   "metadata": {},
   "outputs": [
    {
     "data": {
      "text/plain": [
       "tensor([[ 0.0076,  0.0095, -0.0061, -0.0066,  0.0129,  0.0610, -0.1005, -0.0413,\n",
       "         -0.1347,  0.1177, -0.0741, -0.0651,  0.0705, -0.0749,  0.0851,  0.0449,\n",
       "         -0.0190,  0.0116,  0.0943, -0.0276, -0.0253,  0.0220,  0.0476,  0.0300,\n",
       "          0.0237, -0.0840,  0.0566, -0.0527, -0.0355, -0.1026,  0.1106,  0.0944],\n",
       "        [ 0.0254,  0.0896, -0.0513, -0.1072, -0.1343, -0.0043,  0.0217,  0.0959,\n",
       "          0.0198, -0.0731,  0.0694,  0.0111, -0.0826,  0.0785, -0.0932, -0.0316,\n",
       "         -0.0104,  0.0186,  0.0416,  0.0860,  0.1076, -0.0044, -0.0096, -0.0286,\n",
       "          0.0514,  0.1683, -0.0299, -0.0480, -0.0659,  0.0602, -0.0274,  0.0227],\n",
       "        [ 0.0035,  0.0310, -0.0048, -0.0346, -0.0233,  0.0498, -0.0966, -0.0143,\n",
       "         -0.1315,  0.0944, -0.0557, -0.0600,  0.0435, -0.0456,  0.0594,  0.0443,\n",
       "         -0.0242,  0.0137,  0.1054, -0.0057,  0.0045,  0.0214,  0.0434,  0.0214,\n",
       "          0.0294, -0.0399,  0.0529, -0.0632, -0.0494, -0.0886,  0.1040,  0.0966],\n",
       "        [ 0.0030,  0.0330, -0.0055, -0.0378, -0.0311,  0.0387, -0.0782, -0.0031,\n",
       "         -0.1072,  0.0707, -0.0399, -0.0481,  0.0277, -0.0290,  0.0406,  0.0353,\n",
       "         -0.0213,  0.0124,  0.0906,  0.0026,  0.0134,  0.0174,  0.0346,  0.0150,\n",
       "          0.0271, -0.0184,  0.0419, -0.0559, -0.0458, -0.0682,  0.0835,  0.0809],\n",
       "        [ 0.0188,  0.0414, -0.0250, -0.0430, -0.0244,  0.0833, -0.1322, -0.0269,\n",
       "         -0.1801,  0.1399, -0.0807, -0.0866,  0.0717, -0.0791,  0.0884,  0.0520,\n",
       "         -0.0295,  0.0220,  0.1436, -0.0111, -0.0012,  0.0291,  0.0629,  0.0325,\n",
       "          0.0493, -0.0632,  0.0688, -0.0882, -0.0700, -0.1230,  0.1444,  0.1379]],\n",
       "       grad_fn=<SliceBackward0>)"
      ]
     },
     "execution_count": 19,
     "metadata": {},
     "output_type": "execute_result"
    }
   ],
   "source": [
    "output[:5]"
   ]
  },
  {
   "cell_type": "code",
   "execution_count": 13,
   "metadata": {},
   "outputs": [],
   "source": [
    "decoder = GraphDecoder(in_channels=out_features, hidden_channels=hidden_channels, out_channels=in_features, num_layers=3)"
   ]
  },
  {
   "cell_type": "code",
   "execution_count": 14,
   "metadata": {},
   "outputs": [],
   "source": [
    "decoder_output = decoder(output, edges)"
   ]
  },
  {
   "cell_type": "code",
   "execution_count": 15,
   "metadata": {},
   "outputs": [
    {
     "data": {
      "text/plain": [
       "torch.Size([10000, 3])"
      ]
     },
     "execution_count": 15,
     "metadata": {},
     "output_type": "execute_result"
    }
   ],
   "source": [
    "decoder_output.shape"
   ]
  },
  {
   "cell_type": "code",
   "execution_count": 16,
   "metadata": {},
   "outputs": [
    {
     "data": {
      "text/plain": [
       "tensor([[ 0.1167, -0.0853,  0.0923],\n",
       "        [-0.0184,  0.0393,  0.0103],\n",
       "        [ 0.1228, -0.0883,  0.0954],\n",
       "        [ 0.1005, -0.0711,  0.0784],\n",
       "        [ 0.1456, -0.0992,  0.1221],\n",
       "        [ 0.0940, -0.0712,  0.0669],\n",
       "        [ 0.1486, -0.0915,  0.1334],\n",
       "        [ 0.0131, -0.0205, -0.0011],\n",
       "        [-0.0078,  0.0324,  0.0200],\n",
       "        [ 0.1330, -0.0871,  0.1132]], grad_fn=<SliceBackward0>)"
      ]
     },
     "execution_count": 16,
     "metadata": {},
     "output_type": "execute_result"
    }
   ],
   "source": [
    "decoder_output[:10]"
   ]
  },
  {
   "cell_type": "code",
   "execution_count": null,
   "metadata": {},
   "outputs": [],
   "source": []
  }
 ],
 "metadata": {
  "kernelspec": {
   "display_name": "ml",
   "language": "python",
   "name": "python3"
  },
  "language_info": {
   "codemirror_mode": {
    "name": "ipython",
    "version": 3
   },
   "file_extension": ".py",
   "mimetype": "text/x-python",
   "name": "python",
   "nbconvert_exporter": "python",
   "pygments_lexer": "ipython3",
   "version": "3.11.6"
  }
 },
 "nbformat": 4,
 "nbformat_minor": 2
}
