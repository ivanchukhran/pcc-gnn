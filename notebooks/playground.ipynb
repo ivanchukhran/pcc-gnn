{
 "cells": [
  {
   "cell_type": "code",
   "execution_count": 1,
   "metadata": {},
   "outputs": [],
   "source": [
    "import os\n",
    "import sys\n",
    "sys.path.append(os.path.join(os.getcwd(), '..'))\n",
    "\n",
    "import torch\n",
    "import numpy as np\n",
    "from utils.ply import *\n",
    "from utils.pc import *"
   ]
  },
  {
   "cell_type": "code",
   "execution_count": 3,
   "metadata": {},
   "outputs": [],
   "source": [
    "file_name = '/home/chukhran/datasets/completion/shapenet/ShapeNetPointCloud/02691156/10155655850468db78d106ce0a280f87.ply'\n",
    "point_cloud, _, _  = load_ply(file_name)"
   ]
  },
  {
   "cell_type": "code",
   "execution_count": 4,
   "metadata": {},
   "outputs": [
    {
     "data": {
      "text/plain": [
       "(10000, 3)"
      ]
     },
     "execution_count": 4,
     "metadata": {},
     "output_type": "execute_result"
    }
   ],
   "source": [
    "point_cloud.shape"
   ]
  },
  {
   "cell_type": "code",
   "execution_count": 8,
   "metadata": {},
   "outputs": [
    {
     "name": "stdout",
     "output_type": "stream",
     "text": [
      "Switching backend from module://matplotlib_inline.backend_inline to qtagg...\n"
     ]
    },
    {
     "name": "stderr",
     "output_type": "stream",
     "text": [
      "libGL error: MESA-LOADER: failed to open iris: /usr/lib/dri/iris_dri.so: cannot open shared object file: No such file or directory (search paths /usr/lib/x86_64-linux-gnu/dri:\\$${ORIGIN}/dri:/usr/lib/dri, suffix _dri)\n",
      "libGL error: failed to load driver: iris\n",
      "libGL error: MESA-LOADER: failed to open iris: /usr/lib/dri/iris_dri.so: cannot open shared object file: No such file or directory (search paths /usr/lib/x86_64-linux-gnu/dri:\\$${ORIGIN}/dri:/usr/lib/dri, suffix _dri)\n",
      "libGL error: failed to load driver: iris\n",
      "libGL error: MESA-LOADER: failed to open swrast: /usr/lib/dri/swrast_dri.so: cannot open shared object file: No such file or directory (search paths /usr/lib/x86_64-linux-gnu/dri:\\$${ORIGIN}/dri:/usr/lib/dri, suffix _dri)\n",
      "libGL error: failed to load driver: swrast\n"
     ]
    },
    {
     "data": {
      "text/plain": [
       "<Figure size 500x500 with 1 Axes>"
      ]
     },
     "execution_count": 8,
     "metadata": {},
     "output_type": "execute_result"
    }
   ],
   "source": [
    "plot_3d_point_cloud(\n",
    "    point_cloud, \n",
    "    in_u_sphere=True, \n",
    "    show=True, \n",
    "    title=file_name, \n",
    "    backend='qtagg',\n",
    "    # backend=None\n",
    ")"
   ]
  },
  {
   "cell_type": "code",
   "execution_count": 14,
   "metadata": {},
   "outputs": [],
   "source": [
    "import torch\n",
    "from torch import nn\n",
    "import torch.nn.functional as F\n",
    "import torch_geometric \n",
    "from torch_geometric.nn.pool import radius_graph\n",
    "import networkx as nx"
   ]
  },
  {
   "cell_type": "code",
   "execution_count": 15,
   "metadata": {},
   "outputs": [],
   "source": [
    "graph = torch.from_numpy(point_cloud)\n",
    "edges = radius_graph(graph, r=0.01)"
   ]
  },
  {
   "cell_type": "code",
   "execution_count": 16,
   "metadata": {},
   "outputs": [
    {
     "data": {
      "text/plain": [
       "tensor([[ 665, 6872, 9156,  ..., 9995, 7497, 6074],\n",
       "        [   0,    0,    0,  ..., 9999, 9999, 9999]])"
      ]
     },
     "execution_count": 16,
     "metadata": {},
     "output_type": "execute_result"
    }
   ],
   "source": [
    "edges"
   ]
  },
  {
   "cell_type": "markdown",
   "metadata": {},
   "source": [
    "# Algorithm\n",
    "\n",
    "1. Count all point in point cloud\n",
    "2. get edge indices from the point cloud radius graph\n",
    "3. for each edge (u -> v) get source point coordinates (coord of u) and destination coordinates (coord of v)\n",
    "4. for this coordinates add a segment"
   ]
  },
  {
   "cell_type": "code",
   "execution_count": 12,
   "metadata": {},
   "outputs": [
    {
     "name": "stdout",
     "output_type": "stream",
     "text": [
      "Switching backend from QtAgg to qtagg...\n"
     ]
    },
    {
     "data": {
      "text/plain": [
       "<Figure size 500x500 with 1 Axes>"
      ]
     },
     "execution_count": 12,
     "metadata": {},
     "output_type": "execute_result"
    }
   ],
   "source": [
    "plot_3d_point_cloud(graph.numpy(), edges=edges.numpy()[:, :10000], in_u_sphere=True, show=True, title=file_name, backend='qtagg')"
   ]
  },
  {
   "cell_type": "code",
   "execution_count": 17,
   "metadata": {},
   "outputs": [
    {
     "data": {
      "text/plain": [
       "tensor([[-0.0477,  0.0515,  0.2680],\n",
       "        [ 0.1966,  0.0100,  0.0117],\n",
       "        [-0.0117,  0.0940,  0.2773],\n",
       "        [ 0.0039,  0.0952,  0.2586],\n",
       "        [-0.0023,  0.0772,  0.3976]])"
      ]
     },
     "execution_count": 17,
     "metadata": {},
     "output_type": "execute_result"
    }
   ],
   "source": [
    "graph[:5]"
   ]
  },
  {
   "cell_type": "code",
   "execution_count": 26,
   "metadata": {},
   "outputs": [],
   "source": [
    "conv_nn = nn.Sequential(\n",
    "    nn.Linear(6, 32),\n",
    "    nn.LeakyReLU(),\n",
    "    nn.Linear(32, 64),\n",
    ")"
   ]
  },
  {
   "cell_type": "code",
   "execution_count": 27,
   "metadata": {},
   "outputs": [],
   "source": [
    "edge_conv = torch_geometric.nn.EdgeConv(nn=conv_nn, aggr='max')\n"
   ]
  },
  {
   "cell_type": "code",
   "execution_count": 28,
   "metadata": {},
   "outputs": [
    {
     "name": "stdout",
     "output_type": "stream",
     "text": [
      "Graph props: (tensor([[-0.0477,  0.0515,  0.2680],\n",
      "        [ 0.1966,  0.0100,  0.0117],\n",
      "        [-0.0117,  0.0940,  0.2773],\n",
      "        ...,\n",
      "        [-0.0211,  0.0154,  0.3128],\n",
      "        [-0.0242,  0.0933,  0.4086],\n",
      "        [ 0.1508,  0.0110,  0.0273]]), torch.Size([10000, 3]))\n",
      "Edges props: (tensor([[ 665, 6872, 9156,  ..., 9995, 7497, 6074],\n",
      "        [   0,    0,    0,  ..., 9999, 9999, 9999]]), torch.Size([2, 126341]))\n"
     ]
    }
   ],
   "source": [
    "print(f'Graph props: {graph, graph.shape}')\n",
    "print(f'Edges props: {edges, edges.shape}')"
   ]
  },
  {
   "cell_type": "code",
   "execution_count": null,
   "metadata": {},
   "outputs": [],
   "source": []
  },
  {
   "cell_type": "code",
   "execution_count": 32,
   "metadata": {},
   "outputs": [
    {
     "data": {
      "text/plain": [
       "(tensor([[-0.0284,  0.1435,  0.0005,  ...,  0.1180, -0.0363, -0.1733],\n",
       "         [-0.0155,  0.1401,  0.0059,  ...,  0.0751, -0.0076, -0.1881],\n",
       "         [-0.0209,  0.1423,  0.0091,  ...,  0.1143, -0.0342, -0.1638],\n",
       "         ...,\n",
       "         [-0.0308,  0.1500,  0.0029,  ...,  0.1185, -0.0456, -0.1773],\n",
       "         [-0.0183,  0.1551,  0.0196,  ...,  0.1185, -0.0575, -0.1525],\n",
       "         [-0.0211,  0.1417,  0.0005,  ...,  0.0796, -0.0063, -0.1884]],\n",
       "        grad_fn=<ScatterReduceBackward0>),\n",
       " torch.Size([10000, 64]))"
      ]
     },
     "execution_count": 32,
     "metadata": {},
     "output_type": "execute_result"
    }
   ],
   "source": [
    "new_graph = edge_conv(graph, edges)\n",
    "new_graph, new_graph.shape"
   ]
  },
  {
   "cell_type": "code",
   "execution_count": 35,
   "metadata": {},
   "outputs": [
    {
     "data": {
      "text/plain": [
       "(tensor([[0.0000, 0.1587, 0.0305, 0.1214, 0.0000, 0.0798, 0.1614, 0.2050, 0.0876,\n",
       "          0.0000, 0.0262, 0.0969, 0.1682, 0.2152, 0.0000, 0.0000, 0.0000, 0.0000,\n",
       "          0.1870, 0.0522, 0.1298, 0.1097, 0.2689, 0.2840, 0.0000, 0.0000, 0.0000,\n",
       "          0.1388, 0.1748, 0.0000, 0.1512, 0.0000, 0.3260, 0.0000, 0.0000, 0.0000,\n",
       "          0.1410, 0.2743, 0.0000, 0.1557, 0.0000, 0.1751, 0.0626, 0.1072, 0.0000,\n",
       "          0.0090, 0.0000, 0.1882, 0.1689, 0.0000, 0.1097, 0.0000, 0.3082, 0.1687,\n",
       "          0.0000, 0.0000, 0.2098, 0.0000, 0.0000, 0.1294, 0.0643, 0.1255, 0.0492,\n",
       "          0.0000]], grad_fn=<ScatterReduceBackward0>),\n",
       " torch.Size([1, 64]))"
      ]
     },
     "execution_count": 35,
     "metadata": {},
     "output_type": "execute_result"
    }
   ],
   "source": [
    "pooled = torch_geometric.nn.global_max_pool(new_graph, batch=torch.zeros(new_graph.shape[0], dtype=torch.long))\n",
    "pooled, pooled.shape"
   ]
  },
  {
   "cell_type": "code",
   "execution_count": 37,
   "metadata": {},
   "outputs": [],
   "source": [
    "farthest = torch_geometric.nn.fps(new_graph, ratio=0.5)\n",
    "farthest, farthest.shape"
   ]
  }
 ],
 "metadata": {
  "kernelspec": {
   "display_name": "ml",
   "language": "python",
   "name": "python3"
  },
  "language_info": {
   "codemirror_mode": {
    "name": "ipython",
    "version": 3
   },
   "file_extension": ".py",
   "mimetype": "text/x-python",
   "name": "python",
   "nbconvert_exporter": "python",
   "pygments_lexer": "ipython3",
   "version": "3.11.8"
  }
 },
 "nbformat": 4,
 "nbformat_minor": 2
}
