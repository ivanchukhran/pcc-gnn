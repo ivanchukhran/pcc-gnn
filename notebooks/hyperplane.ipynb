{
 "cells": [
  {
   "cell_type": "code",
   "execution_count": 1,
   "metadata": {},
   "outputs": [],
   "source": [
    "import os\n",
    "import sys\n",
    "sys.path.append(os.path.join(os.getcwd(), '..'))\n",
    "\n",
    "import numpy as np\n",
    "from datasets.generation import *\n",
    "from utils.ply import *\n",
    "from utils.pc import *"
   ]
  },
  {
   "cell_type": "code",
   "execution_count": 2,
   "metadata": {},
   "outputs": [
    {
     "data": {
      "text/plain": [
       "HyperPlane(normal=array([-0.11983777,  0.08108967, -0.20849885]), bias=0.1835118387427538)"
      ]
     },
     "execution_count": 2,
     "metadata": {},
     "output_type": "execute_result"
    }
   ],
   "source": [
    "hp = HyperPlane.random_3d()\n",
    "hp"
   ]
  },
  {
   "cell_type": "code",
   "execution_count": 3,
   "metadata": {},
   "outputs": [],
   "source": [
    "dataset_path = '/home/chukhran/datasets/completion/shapenet/ShapeNetPointCloud'\n",
    "categories_id = os.listdir(dataset_path)"
   ]
  },
  {
   "cell_type": "code",
   "execution_count": 4,
   "metadata": {},
   "outputs": [
    {
     "data": {
      "text/plain": [
       "'chair'"
      ]
     },
     "execution_count": 4,
     "metadata": {},
     "output_type": "execute_result"
    }
   ],
   "source": [
    "selected = categories_id[0]\n",
    "id_to_category.get(selected)"
   ]
  },
  {
   "cell_type": "code",
   "execution_count": 5,
   "metadata": {},
   "outputs": [
    {
     "data": {
      "text/plain": [
       "'27a8827b0ba5d743169bfe841050f4a4.ply'"
      ]
     },
     "execution_count": 5,
     "metadata": {},
     "output_type": "execute_result"
    }
   ],
   "source": [
    "random_sample = np.random.choice(os.listdir(os.path.join(dataset_path, selected)))\n",
    "random_sample"
   ]
  },
  {
   "cell_type": "code",
   "execution_count": 6,
   "metadata": {},
   "outputs": [
    {
     "name": "stdout",
     "output_type": "stream",
     "text": [
      "10000\n",
      "Switching backend from module://matplotlib_inline.backend_inline to qtagg...\n"
     ]
    },
    {
     "data": {
      "text/plain": [
       "<Figure size 500x500 with 1 Axes>"
      ]
     },
     "execution_count": 6,
     "metadata": {},
     "output_type": "execute_result"
    }
   ],
   "source": [
    "points, _, _ = load_ply(os.path.join(dataset_path, selected, random_sample))\n",
    "print(len(points))\n",
    "plot_3d_point_cloud(points)"
   ]
  },
  {
   "cell_type": "code",
   "execution_count": 10,
   "metadata": {},
   "outputs": [
    {
     "name": "stdout",
     "output_type": "stream",
     "text": [
      "existing: (2112, 3), missing: (7888, 3)\n"
     ]
    }
   ],
   "source": [
    "min_points = 1024\n",
    "existing, missing = generate_split_sample(points, min_points)\n",
    "print(f'existing: {existing.shape}, missing: {missing.shape}')"
   ]
  },
  {
   "cell_type": "code",
   "execution_count": 11,
   "metadata": {},
   "outputs": [
    {
     "data": {
      "text/plain": [
       "<Figure size 1000x1000 with 1 Axes>"
      ]
     },
     "execution_count": 11,
     "metadata": {},
     "output_type": "execute_result"
    }
   ],
   "source": [
    "plot_multipart_3d_point_cloud([existing, missing])"
   ]
  },
  {
   "cell_type": "code",
   "execution_count": 18,
   "metadata": {},
   "outputs": [],
   "source": [
    "import torch\n",
    "from torch_cluster.radius import radius_graph\n"
   ]
  },
  {
   "cell_type": "code",
   "execution_count": 20,
   "metadata": {},
   "outputs": [
    {
     "name": "stdout",
     "output_type": "stream",
     "text": [
      "Switching backend from QtAgg to qtagg...\n"
     ]
    },
    {
     "data": {
      "text/plain": [
       "<Figure size 944x709 with 1 Axes>"
      ]
     },
     "execution_count": 20,
     "metadata": {},
     "output_type": "execute_result"
    }
   ],
   "source": [
    "plot_3d_point_cloud(points.numpy(), edges=radius_graph_edges.numpy(), show=True, in_u_sphere=True, title='Radius Graph')"
   ]
  },
  {
   "cell_type": "code",
   "execution_count": 24,
   "metadata": {},
   "outputs": [
    {
     "name": "stdout",
     "output_type": "stream",
     "text": [
      "existing: (4022, 3), missing: (5978, 3)\n"
     ]
    }
   ],
   "source": [
    "filename = \"airplane/1a04e3eab45ca15dd86060f189eb133_1.ply\"\n",
    "existing_path = '/home/chukhran/datasets/completion/shapenet/ShapeNetPointCloud/slices/existing'\n",
    "missing_path = '/home/chukhran/datasets/completion/shapenet/ShapeNetPointCloud/slices/missing'\n",
    "existing, _, _ = load_ply(os.path.join(existing_path, filename))\n",
    "missing, _, _ = load_ply(os.path.join(missing_path, filename))\n",
    "print(f'existing: {existing.shape}, missing: {missing.shape}')"
   ]
  },
  {
   "cell_type": "code",
   "execution_count": 25,
   "metadata": {},
   "outputs": [
    {
     "data": {
      "text/plain": [
       "<Figure size 1000x1000 with 1 Axes>"
      ]
     },
     "execution_count": 25,
     "metadata": {},
     "output_type": "execute_result"
    }
   ],
   "source": [
    "plot_multipart_3d_point_cloud([existing, missing])"
   ]
  },
  {
   "cell_type": "code",
   "execution_count": 26,
   "metadata": {},
   "outputs": [],
   "source": [
    "radius = 1e-2"
   ]
  },
  {
   "cell_type": "code",
   "execution_count": 30,
   "metadata": {},
   "outputs": [],
   "source": [
    "points = torch.from_numpy(np.concatenate([existing, missing], axis=0))"
   ]
  },
  {
   "cell_type": "code",
   "execution_count": 31,
   "metadata": {},
   "outputs": [],
   "source": [
    "edges = radius_graph(points, r=radius)\n"
   ]
  },
  {
   "cell_type": "code",
   "execution_count": 33,
   "metadata": {},
   "outputs": [
    {
     "data": {
      "text/plain": [
       "(tensor([[2603, 1454, 2908,  ..., 5482, 4165, 8603],\n",
       "         [   0,    0,    0,  ..., 9999, 9999, 9999]]),\n",
       " torch.Size([2, 65408]))"
      ]
     },
     "execution_count": 33,
     "metadata": {},
     "output_type": "execute_result"
    }
   ],
   "source": [
    "edges, edges.shape"
   ]
  },
  {
   "cell_type": "code",
   "execution_count": 34,
   "metadata": {},
   "outputs": [],
   "source": [
    "from scipy.spatial import Delaunay\n",
    "\n",
    "mesh = Delaunay(points.numpy()).simplices"
   ]
  },
  {
   "cell_type": "code",
   "execution_count": 36,
   "metadata": {},
   "outputs": [
    {
     "data": {
      "text/plain": [
       "(array([[3398, 1162, 3506, 3927],\n",
       "        [7505, 7499, 3927, 3232],\n",
       "        [2605, 3398, 2223, 1291],\n",
       "        ...,\n",
       "        [6995, 6955, 5462, 9123],\n",
       "        [6995, 5462, 9496, 9167],\n",
       "        [6995, 6955, 5462, 9167]], dtype=int32),\n",
       " (60653, 4))"
      ]
     },
     "execution_count": 36,
     "metadata": {},
     "output_type": "execute_result"
    }
   ],
   "source": [
    "mesh, mesh.shape"
   ]
  },
  {
   "cell_type": "code",
   "execution_count": null,
   "metadata": {},
   "outputs": [],
   "source": []
  }
 ],
 "metadata": {
  "kernelspec": {
   "display_name": "ml",
   "language": "python",
   "name": "python3"
  },
  "language_info": {
   "codemirror_mode": {
    "name": "ipython",
    "version": 3
   },
   "file_extension": ".py",
   "mimetype": "text/x-python",
   "name": "python",
   "nbconvert_exporter": "python",
   "pygments_lexer": "ipython3",
   "version": "3.11.8"
  }
 },
 "nbformat": 4,
 "nbformat_minor": 2
}
